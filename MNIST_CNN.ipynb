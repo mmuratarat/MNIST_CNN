{
 "cells": [
  {
   "cell_type": "code",
   "execution_count": 1,
   "metadata": {},
   "outputs": [],
   "source": [
    "#Ignore the warnings\n",
    "import warnings\n",
    "warnings.filterwarnings(\"ignore\")\n",
    "\n",
    "import os\n",
    "#Defaults to 0, so all logs are shown. Set TF_CPP_MIN_LOG_LEVEL to 1 to filter out INFO logs, 2 to additionall filter out WARNING, 3 to additionally filter out ERROR.\n",
    "os.environ['TF_CPP_MIN_LOG_LEVEL'] = '2'\n",
    "\n",
    "import numpy as np \n",
    "import pandas as pd \n",
    "import tensorflow as tf\n",
    "\n",
    "import os\n",
    "import matplotlib.pyplot as plt\n",
    "%matplotlib inline"
   ]
  },
  {
   "cell_type": "code",
   "execution_count": 2,
   "metadata": {},
   "outputs": [
    {
     "name": "stdout",
     "output_type": "stream",
     "text": [
      "Extracting MNIST_data/train-images-idx3-ubyte.gz\n",
      "Extracting MNIST_data/train-labels-idx1-ubyte.gz\n",
      "Extracting MNIST_data/t10k-images-idx3-ubyte.gz\n",
      "Extracting MNIST_data/t10k-labels-idx1-ubyte.gz\n",
      "(55000, 784)\n",
      "(55000, 10)\n",
      "(5000, 28, 28, 1)\n",
      "(5000, 10)\n",
      "(10000, 28, 28, 1)\n",
      "(10000, 10)\n"
     ]
    },
    {
     "data": {
      "text/plain": [
       "<matplotlib.image.AxesImage at 0x1c2ec79e10>"
      ]
     },
     "execution_count": 2,
     "metadata": {},
     "output_type": "execute_result"
    },
    {
     "data": {
      "image/png": "[encoded data removed]",
      "text/plain": [
       "<Figure size 432x288 with 1 Axes>"
      ]
     },
     "metadata": {},
     "output_type": "display_data"
    }
   ],
   "source": [
    "old_v = tf.logging.get_verbosity()\n",
    "tf.logging.set_verbosity(tf.logging.ERROR)\n",
    "from tensorflow.examples.tutorials.mnist import input_data\n",
    "\n",
    "#Data parameters\n",
    "image_width = 28\n",
    "image_height = 28\n",
    "num_classes = 10\n",
    "#It is a grayscale so it has only one channel\n",
    "num_channels = 1\n",
    "\n",
    "mnist = input_data.read_data_sets(\"MNIST_data/\", one_hot=True)\n",
    "\n",
    "Xtrain = mnist.train.images\n",
    "Xtrain = Xtrain\n",
    "ytrain = mnist.train.labels\n",
    "\n",
    "Xvalid = mnist.validation.images\n",
    "Xvalid = Xvalid.reshape((-1, image_width, image_height, num_channels))\n",
    "yvalid = mnist.validation.labels\n",
    "\n",
    "Xtest = mnist.test.images\n",
    "Xtest = Xtest.reshape([-1, image_width, image_height, num_channels])\n",
    "ytest = mnist.test.labels\n",
    "\n",
    "tf.logging.set_verbosity(old_v)\n",
    "\n",
    "print(Xtrain.shape)\n",
    "print(ytrain.shape)\n",
    "print(Xvalid.shape)\n",
    "print(yvalid.shape)\n",
    "print(Xtest.shape)\n",
    "print(ytest.shape)\n",
    "\n",
    "\n",
    "#Plot one image\n",
    "plt.imshow(mnist.train.images.reshape((-1, image_width, image_height, num_channels))[55, :, :, 0], cmap=\"gray\", interpolation=\"nearest\")"
   ]
  },
  {
   "cell_type": "code",
   "execution_count": 3,
   "metadata": {},
   "outputs": [],
   "source": [
    "#In this tutorial, we use tf.layers API.\n",
    "#tf.layers.conv2d uses tf.nn.convolution\n",
    "#the main difference of tf.nn and tf.layers conv2d is that for tf.nn, you need to create your own filter tensor \n",
    "#and pass it in. This filter needs to have the size of: [kernel_height, kernel_width, in_channels, num_filters]\n",
    "#https://stackoverflow.com/questions/45172725/tensorflow-why-are-there-so-many-similar-or-even-duplicate-functions-in-tf-nn\n",
    "learning_rate = 0.0001\n",
    "\n",
    "graph = tf.Graph()\n",
    "with graph.as_default():\n",
    "    #Define the placeholders\n",
    "    with tf.name_scope(\"graph_inputs\"):\n",
    "        X = tf.placeholder(dtype=tf.float32,shape=[None, image_width, image_height, num_channels], name=\"input_placeholder\")\n",
    "        y = tf.placeholder(dtype=tf.float32,shape=[None, num_classes],name=\"input_placeholder\")\n",
    "        keep_prob_ = tf.placeholder_with_default(1.0, shape=(), name =\"dropout_rate\")\n",
    "        \n",
    "    #Define the model\n",
    "    with tf.name_scope(\"CNN\"):\n",
    "        with tf.name_scope(\"Model\"):\n",
    "            conv1 = tf.layers.conv2d(X, filters = 32, kernel_size=[5,5], strides=[1,1], padding = \"SAME\", activation=tf.nn.relu)\n",
    "            #shape=(batch_size, 28, 28, 32)\n",
    "            MaxPool1 = tf.layers.max_pooling2d(inputs=conv1, pool_size=[2,2], strides=[2,2], padding='SAME')\n",
    "            #shape=(batch_size, 14, 14, 32)\n",
    "            conv2 = tf.layers.conv2d(MaxPool1, filters = 64, kernel_size=[5,5], strides=[1,1], padding = \"SAME\", activation=tf.nn.relu)\n",
    "            #shape=(batch_size, 14, 14, 64\n",
    "            MaxPool2 = tf.layers.max_pooling2d(inputs=conv2, pool_size=[2,2], strides=[2,2], padding='SAME')\n",
    "            #shape=(batch_size, 7, 7, 64)\n",
    "            flat_layer = tf.layers.flatten(MaxPool2)\n",
    "            #shape=(batch_size, 3136)\n",
    "            dense_layer = tf.layers.dense(inputs = flat_layer, units = 1024, activation=tf.nn.relu)\n",
    "            #shape=(batch_size, 1024)\n",
    "            dropout_layer = tf.nn.dropout(dense_layer, keep_prob = keep_prob_)\n",
    "            #just some neurons dropped in order to prevent overfitting. Shape does not change.\n",
    "            #shape=(batch_size, 1024)\n",
    "        with tf.variable_scope('Logits'):\n",
    "            # Reduce the dimensions to num_classes\n",
    "            logits = tf.layers.dense(inputs = dense_layer, units = 10)\n",
    "            #shape=(batch_size, 10)\n",
    "        with tf.name_scope('Predictions'):\n",
    "            predictions = tf.nn.softmax(logits, name=\"predictions\")  #[Batch_size, num_classes]\n",
    "        with tf.name_scope('Loss'):\n",
    "            #Classes are one-hot encoded. If they were not,\n",
    "            #use tf.nn.sparse_softmax_cross_entropy_with_logits\n",
    "            xentropy = tf.nn.softmax_cross_entropy_with_logits_v2(logits=logits, labels=y)\n",
    "            loss = tf.reduce_mean(xentropy)\n",
    "        with tf.name_scope('Train'):\n",
    "            optimizer = tf.train.AdamOptimizer(learning_rate=learning_rate)\n",
    "            trainer = optimizer.minimize(loss)\n",
    "        with tf.name_scope(\"Accuracy\"):\n",
    "            accuracy, accuracy_update_op  = tf.metrics.accuracy(labels = tf.argmax(y, axis = 1), predictions = tf.argmax(predictions, axis = 1), name = 'accuracy')\n",
    "            running_vars_accuracy = tf.get_collection(tf.GraphKeys.LOCAL_VARIABLES, scope=\"CNN/Accuracy\")\n",
    "        with tf.name_scope(\"Saver\"):\n",
    "            saver = tf.train.Saver(var_list=tf.trainable_variables()) \n",
    "        with tf.name_scope(\"init\"):\n",
    "            global_variables_init = tf.global_variables_initializer()\n",
    "            running_vars_initializer_accuracy = tf.variables_initializer(var_list=running_vars_accuracy)"
   ]
  },
  {
   "cell_type": "code",
   "execution_count": 4,
   "metadata": {},
   "outputs": [
    {
     "name": "stdout",
     "output_type": "stream",
     "text": [
      "Epoch: 0- Training Loss: 0.426651,  Training Accuracy: 88.63%,  Validation Loss: 0.135964,  Validation Accuracy: 96.27%,\n",
      "Epoch: 1- Training Loss: 0.111080,  Training Accuracy: 96.76%,  Validation Loss: 0.081283,  Validation Accuracy: 97.42%,\n",
      "Epoch: 2- Training Loss: 0.074570,  Training Accuracy: 97.79%,  Validation Loss: 0.055082,  Validation Accuracy: 98.36%,\n",
      "Epoch: 3- Training Loss: 0.057972,  Training Accuracy: 98.22%,  Validation Loss: 0.053509,  Validation Accuracy: 98.36%,\n",
      "Epoch: 4- Training Loss: 0.046853,  Training Accuracy: 98.58%,  Validation Loss: 0.051286,  Validation Accuracy: 98.36%,\n",
      "Epoch: 5- Training Loss: 0.039962,  Training Accuracy: 98.78%,  Validation Loss: 0.037255,  Validation Accuracy: 99.08%,\n",
      "Epoch: 6- Training Loss: 0.034635,  Training Accuracy: 98.94%,  Validation Loss: 0.045253,  Validation Accuracy: 98.67%,\n",
      "Epoch: 7- Training Loss: 0.030550,  Training Accuracy: 99.09%,  Validation Loss: 0.037211,  Validation Accuracy: 99.10%,\n",
      "Epoch: 8- Training Loss: 0.026952,  Training Accuracy: 99.15%,  Validation Loss: 0.031092,  Validation Accuracy: 99.10%,\n",
      "Epoch: 9- Training Loss: 0.023485,  Training Accuracy: 99.26%,  Validation Loss: 0.034983,  Validation Accuracy: 99.10%,\n",
      "Optimization Finished!\n",
      "Saving the model...\n",
      "Evaluating on testing data...\n",
      "Final test accuracy: 99.00%\n"
     ]
    }
   ],
   "source": [
    "#Network Parameters\n",
    "num_epochs = 10\n",
    "batch_size = 128\n",
    "\n",
    "with tf.Session(graph=graph) as sess:\n",
    "    global_variables_init.run()\n",
    "    graph.finalize()\n",
    "    \n",
    "    train_loss = []\n",
    "    val_loss = []\n",
    "    train_acc = []\n",
    "    val_acc = []\n",
    "    \n",
    "    for epoch in range(num_epochs):\n",
    "        avg_cost_train = 0.\n",
    "        total_train_batch = int((mnist.train.num_examples/batch_size) + 1)\n",
    "\n",
    "        running_vars_initializer_accuracy.run()\n",
    "        for batch in range(total_train_batch):\n",
    "            xBatch_train, yBatch_train = mnist.train.next_batch(batch_size)\n",
    "            xBatch_train = xBatch_train.reshape((-1, image_width, image_height, num_channels))\n",
    "            _, miniBatchCost_train, miniBatchAccuracy_train = sess.run([trainer, loss, accuracy_update_op], feed_dict = {X: xBatch_train, y: yBatch_train, keep_prob_: 0.5})\n",
    "            avg_cost_train += miniBatchCost_train / total_train_batch\n",
    "        accuracy_train = sess.run(accuracy)\n",
    "        train_loss.append(avg_cost_train)\n",
    "        train_acc.append(accuracy_train)\n",
    "        \n",
    "        \n",
    "        avg_cost_val = 0.\n",
    "        total_val_batch = int((mnist.validation.num_examples/batch_size) + 1)\n",
    "        running_vars_initializer_accuracy.run()\n",
    "        for batch in range(total_val_batch):\n",
    "            xBatch_val, yBatch_val = mnist.validation.next_batch(batch_size)\n",
    "            xBatch_val = xBatch_val.reshape((-1, image_width, image_height, num_channels))\n",
    "            miniBatchCost_val, miniBatchAccuracy_val= sess.run([loss, accuracy_update_op], feed_dict = {X: xBatch_val, y: yBatch_val, keep_prob_: 1.0})\n",
    "            avg_cost_val += miniBatchCost_val / total_val_batch\n",
    "        accuracy_val = sess.run(accuracy)\n",
    "        val_loss.append(avg_cost_val)\n",
    "        val_acc.append(accuracy_val)\n",
    "        \n",
    "        \n",
    "        print(\"Epoch: {:d}-\".format(epoch), \\\n",
    "              \"Training Loss: {:.6f}, \".format(avg_cost_train), \\\n",
    "              \"Training Accuracy: {:>.2%}, \".format(accuracy_train), \\\n",
    "              \"Validation Loss: {:.6f}, \".format(avg_cost_val), \\\n",
    "              \"Validation Accuracy: {:>.2%},\".format(accuracy_val))\n",
    "\n",
    "    print(\"Optimization Finished!\")\n",
    "    \n",
    "    print(\"Saving the model...\")\n",
    "    final_model_path = \"./my_deep_model.ckpt\"\n",
    "    saver.save(sess, final_model_path)\n",
    "    \n",
    "        \n",
    "    print(\"Evaluating on testing data...\")\n",
    "    running_vars_initializer_accuracy.run()\n",
    "    Xtest = mnist.test.images\n",
    "    Xtest = Xtest.reshape([-1, image_width, image_height, num_channels])\n",
    "    ytest = mnist.test.labels\n",
    "    predictions_test, _= sess.run([predictions, accuracy_update_op], feed_dict={X:Xtest, y: ytest, keep_prob_: 1.0})\n",
    "    accuracy_test = sess.run(accuracy)\n",
    "    print(\"Final test accuracy: {:>.2%}\".format(accuracy_test)) "
   ]
  },
  {
   "cell_type": "code",
   "execution_count": 5,
   "metadata": {},
   "outputs": [
    {
     "data": {
      "image/png": "[encoded data removed]",
      "text/plain": [
       "<Figure size 432x288 with 1 Axes>"
      ]
     },
     "metadata": {},
     "output_type": "display_data"
    }
   ],
   "source": [
    "#Visualize the loss\n",
    "plt.figure(1)\n",
    "plt.plot(train_loss, label='Train Loss')\n",
    "plt.plot(val_loss, label='Validation Loss')\n",
    "plt.xlabel('Epoch')\n",
    "plt.ylabel('Cost')\n",
    "plt.title(\"Loss (Cost Function)\")\n",
    "plt.legend()\n",
    "plt.show()"
   ]
  },
  {
   "cell_type": "code",
   "execution_count": 6,
   "metadata": {},
   "outputs": [
    {
     "data": {
      "image/png": "[encoded data removed]",
      "text/plain": [
       "<Figure size 432x288 with 1 Axes>"
      ]
     },
     "metadata": {},
     "output_type": "display_data"
    }
   ],
   "source": [
    "#Visualize the Accuracy\n",
    "plt.figure(2)\n",
    "plt.plot(train_acc, label='Train Accuracy')\n",
    "plt.plot(val_acc, label='Validation Accuracy')\n",
    "plt.xlabel('Epoch')\n",
    "plt.ylabel('Accuracy')\n",
    "plt.title(\"Accuracy\")\n",
    "plt.legend()\n",
    "plt.show()"
   ]
  }
 ],
 "metadata": {
  "kernelspec": {
   "display_name": "Python 3",
   "language": "python",
   "name": "python3"
  },
  "language_info": {
   "codemirror_mode": {
    "name": "ipython",
    "version": 3
   },
   "file_extension": ".py",
   "mimetype": "text/x-python",
   "name": "python",
   "nbconvert_exporter": "python",
   "pygments_lexer": "ipython3",
   "version": "3.6.5"
  }
 },
 "nbformat": 4,
 "nbformat_minor": 2
}
