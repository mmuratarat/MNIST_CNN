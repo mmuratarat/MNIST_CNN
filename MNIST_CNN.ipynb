{
 "cells": [
  {
   "cell_type": "code",
   "execution_count": 1,
   "metadata": {},
   "outputs": [],
   "source": [
    "#Ignore the warnings\n",
    "import warnings\n",
    "warnings.filterwarnings(\"ignore\")\n",
    "\n",
    "import os\n",
    "#Defaults to 0, so all logs are shown. Set TF_CPP_MIN_LOG_LEVEL to 1 to filter out INFO logs, 2 to additionall filter out WARNING, 3 to additionally filter out ERROR.\n",
    "os.environ['TF_CPP_MIN_LOG_LEVEL'] = '2'\n",
    "\n",
    "import numpy as np \n",
    "import pandas as pd \n",
    "import tensorflow as tf\n",
    "\n",
    "import os\n",
    "import matplotlib.pyplot as plt\n",
    "%matplotlib inline"
   ]
  },
  {
   "cell_type": "code",
   "execution_count": 2,
   "metadata": {},
   "outputs": [
    {
     "name": "stdout",
     "output_type": "stream",
     "text": [
      "Extracting MNIST_data/train-images-idx3-ubyte.gz\n",
      "Extracting MNIST_data/train-labels-idx1-ubyte.gz\n",
      "Extracting MNIST_data/t10k-images-idx3-ubyte.gz\n",
      "Extracting MNIST_data/t10k-labels-idx1-ubyte.gz\n",
      "(55000, 784)\n",
      "(55000, 10)\n",
      "(5000, 28, 28, 1)\n",
      "(5000, 10)\n",
      "(10000, 28, 28, 1)\n",
      "(10000, 10)\n"
     ]
    },
    {
     "data": {
      "text/plain": [
       "<matplotlib.image.AxesImage at 0x1c2c646e10>"
      ]
     },
     "execution_count": 2,
     "metadata": {},
     "output_type": "execute_result"
    },
    {
     "data": {
      "image/png": "[encoded data removed]",
      "text/plain": [
       "<Figure size 432x288 with 1 Axes>"
      ]
     },
     "metadata": {},
     "output_type": "display_data"
    }
   ],
   "source": [
    "old_v = tf.logging.get_verbosity()\n",
    "tf.logging.set_verbosity(tf.logging.ERROR)\n",
    "from tensorflow.examples.tutorials.mnist import input_data\n",
    "\n",
    "#Data parameters\n",
    "image_width = 28\n",
    "image_height = 28\n",
    "num_classes = 10\n",
    "#It is a grayscale so it has only one channel\n",
    "num_channels = 1\n",
    "\n",
    "mnist = input_data.read_data_sets(\"MNIST_data/\", one_hot=True)\n",
    "\n",
    "Xtrain = mnist.train.images\n",
    "Xtrain = Xtrain\n",
    "ytrain = mnist.train.labels\n",
    "\n",
    "Xvalid = mnist.validation.images\n",
    "Xvalid = Xvalid.reshape((-1, image_width, image_height, num_channels))\n",
    "yvalid = mnist.validation.labels\n",
    "\n",
    "Xtest = mnist.test.images\n",
    "Xtest = Xtest.reshape([-1, image_width, image_height, num_channels])\n",
    "ytest = mnist.test.labels\n",
    "\n",
    "tf.logging.set_verbosity(old_v)\n",
    "\n",
    "print(Xtrain.shape)\n",
    "print(ytrain.shape)\n",
    "print(Xvalid.shape)\n",
    "print(yvalid.shape)\n",
    "print(Xtest.shape)\n",
    "print(ytest.shape)\n",
    "\n",
    "\n",
    "#Plot one image\n",
    "plt.imshow(mnist.train.images.reshape((-1, image_width, image_height, num_channels))[55, :, :, 0], cmap=\"gray\", interpolation=\"nearest\")"
   ]
  },
  {
   "cell_type": "code",
   "execution_count": 3,
   "metadata": {},
   "outputs": [],
   "source": [
    "#In this tutorial, we use tf.layers API.\n",
    "#tf.layers.conv2d uses tf.nn.convolution\n",
    "#the main difference of tf.nn and tf.layers conv2d is that for tf.nn, you need to create your own filter tensor \n",
    "#and pass it in. This filter needs to have the size of: [kernel_height, kernel_width, in_channels, num_filters]\n",
    "#https://stackoverflow.com/questions/45172725/tensorflow-why-are-there-so-many-similar-or-even-duplicate-functions-in-tf-nn\n",
    "learning_rate = 0.0001\n",
    "\n",
    "\n",
    "# neural network structure for this sample:\n",
    "#\n",
    "# · · · · · · · · · ·      (input data, 1-deep)                   X [batch, 28, 28, 1]\n",
    "# @ @ @ @ @ @ @ @ @ @   -- conv.      5x5x1=>32 stride 1          W1 [5, 5, 1, 32]         B1 [32]\n",
    "#                       -- max pool   2x2 stride 2     \n",
    "# ∶∶∶∶∶∶∶∶∶∶∶∶∶∶∶∶∶∶∶                                             Y1 [batch, 14, 14, 32]\n",
    "#   @ @ @ @ @ @ @ @     -- conv.     5x5x32=>64 stride 1          W2 [5, 5, 32, 64]        B2 [64]\n",
    "#                       -- max pool   2x2 stride 2 \n",
    "#   ∶∶∶∶∶∶∶∶∶∶∶∶∶∶∶                                               Y2 [batch, 7, 7, 64]\n",
    "#     \\x/x\\x\\x/         -- Flat layer          \n",
    "#     ∶∶∶∶∶∶∶∶∶∶∶                                                 Y3 [batch, 7, 7, 12] => reshaped to [batch, 7*7*12=3136]\n",
    "#      \\x/x\\x\\          -- fully connected layer (relu)           W4 [7*7*12, 1024]       B4 [1024]\n",
    "#       · · · ·                                                   Y4 [batch, 1024]  => dropped out, [batch, 1024] \n",
    "#       \\x/x\\           -- fully connected layer (softmax)        W5 [1024, 10]           B5 [10]\n",
    "#        · · ·                                                    Y [batch, 10]\n",
    "\n",
    "\n",
    "graph = tf.Graph()\n",
    "with graph.as_default():\n",
    "    #Define the placeholders\n",
    "    with tf.name_scope(\"graph_inputs\"):\n",
    "        # input X: 28x28 grayscale images, the first dimension (None) will index the images in the mini-batch\n",
    "        X = tf.placeholder(dtype=tf.float32,shape=[None, image_width, image_height, num_channels], name=\"input_placeholder\")\n",
    "        y = tf.placeholder(dtype=tf.float32,shape=[None, num_classes],name=\"input_placeholder\")\n",
    "        keep_prob_ = tf.placeholder_with_default(1.0, shape=(), name =\"dropout_rate\")\n",
    "        \n",
    "    #Define the model\n",
    "    with tf.name_scope(\"CNN\"):\n",
    "        with tf.name_scope(\"Model\"):\n",
    "            #Layer 1\n",
    "            conv1 = tf.layers.conv2d(X, filters = 32, kernel_size=[5,5], strides=[1,1], padding = \"SAME\", activation=tf.nn.relu)\n",
    "            #shape=(batch_size, 28, 28, 32)\n",
    "            MaxPool1 = tf.layers.max_pooling2d(inputs=conv1, pool_size=[2,2], strides=[2,2], padding='SAME')\n",
    "            #shape=(batch_size, 14, 14, 32)\n",
    "            \n",
    "            #Layer 2\n",
    "            conv2 = tf.layers.conv2d(MaxPool1, filters = 64, kernel_size=[5,5], strides=[1,1], padding = \"SAME\", activation=tf.nn.relu)\n",
    "            #shape=(batch_size, 14, 14, 64\n",
    "            MaxPool2 = tf.layers.max_pooling2d(inputs=conv2, pool_size=[2,2], strides=[2,2], padding='SAME')\n",
    "            #shape=(batch_size, 7, 7, 64)\n",
    "            \n",
    "            flat_layer = tf.layers.flatten(MaxPool2)\n",
    "            #shape=(batch_size, 3136)\n",
    "            dense_layer = tf.layers.dense(inputs = flat_layer, units = 1024, activation=tf.nn.relu)\n",
    "            #shape=(batch_size, 1024)\n",
    "            dropout_layer = tf.nn.dropout(dense_layer, keep_prob = keep_prob_)\n",
    "            #just some neurons dropped in order to prevent overfitting. Shape does not change.\n",
    "            #shape=(batch_size, 1024)\n",
    "        with tf.variable_scope('Logits'):\n",
    "            # Reduce the dimensions to num_classes\n",
    "            logits = tf.layers.dense(inputs = dense_layer, units = 10)\n",
    "            #shape=(batch_size, 10)\n",
    "        with tf.name_scope('Predictions'):\n",
    "            #Softmax layer\n",
    "            predictions = tf.nn.softmax(logits, name=\"predictions\")  #[Batch_size, num_classes]\n",
    "        with tf.name_scope('Loss'):\n",
    "            #Classes are one-hot encoded. If they were not,\n",
    "            #use tf.nn.sparse_softmax_cross_entropy_with_logits\n",
    "            xentropy = tf.nn.softmax_cross_entropy_with_logits_v2(logits=logits, labels=y)\n",
    "            loss = tf.reduce_mean(xentropy)\n",
    "        with tf.name_scope('Train'):\n",
    "            optimizer = tf.train.AdamOptimizer(learning_rate=learning_rate)\n",
    "            trainer = optimizer.minimize(loss)\n",
    "        with tf.name_scope(\"Accuracy\"):\n",
    "            accuracy, accuracy_update_op  = tf.metrics.accuracy(labels = tf.argmax(y, axis = 1), predictions = tf.argmax(predictions, axis = 1), name = 'accuracy')\n",
    "            running_vars_accuracy = tf.get_collection(tf.GraphKeys.LOCAL_VARIABLES, scope=\"CNN/Accuracy\")\n",
    "        with tf.name_scope(\"Saver\"):\n",
    "            saver = tf.train.Saver(var_list=tf.trainable_variables()) \n",
    "        with tf.name_scope(\"init\"):\n",
    "            global_variables_init = tf.global_variables_initializer()\n",
    "            running_vars_initializer_accuracy = tf.variables_initializer(var_list=running_vars_accuracy)"
   ]
  },
  {
   "cell_type": "code",
   "execution_count": 4,
   "metadata": {},
   "outputs": [
    {
     "name": "stdout",
     "output_type": "stream",
     "text": [
      "Epoch: 0- Training Loss: 0.408323,  Training Accuracy: 89.21%,  Validation Loss: 0.135577,  Validation Accuracy: 96.09%,\n",
      "Epoch: 1- Training Loss: 0.112222,  Training Accuracy: 96.66%,  Validation Loss: 0.086961,  Validation Accuracy: 97.44%,\n",
      "Epoch: 2- Training Loss: 0.071929,  Training Accuracy: 97.91%,  Validation Loss: 0.058533,  Validation Accuracy: 98.36%,\n",
      "Epoch: 3- Training Loss: 0.056799,  Training Accuracy: 98.28%,  Validation Loss: 0.054948,  Validation Accuracy: 98.26%,\n",
      "Epoch: 4- Training Loss: 0.045837,  Training Accuracy: 98.60%,  Validation Loss: 0.044285,  Validation Accuracy: 98.75%,\n",
      "Epoch: 5- Training Loss: 0.038928,  Training Accuracy: 98.79%,  Validation Loss: 0.038028,  Validation Accuracy: 98.91%,\n",
      "Epoch: 6- Training Loss: 0.033563,  Training Accuracy: 98.93%,  Validation Loss: 0.039635,  Validation Accuracy: 98.91%,\n",
      "Epoch: 7- Training Loss: 0.029016,  Training Accuracy: 99.08%,  Validation Loss: 0.037583,  Validation Accuracy: 98.91%,\n",
      "Epoch: 8- Training Loss: 0.024631,  Training Accuracy: 99.27%,  Validation Loss: 0.033315,  Validation Accuracy: 98.89%,\n",
      "Epoch: 9- Training Loss: 0.022812,  Training Accuracy: 99.31%,  Validation Loss: 0.030628,  Validation Accuracy: 99.16%,\n",
      "Optimization Finished!\n",
      "Saving the model...\n",
      "Evaluating on testing data...\n",
      "Final test accuracy: 99.06%\n"
     ]
    }
   ],
   "source": [
    "#Network Parameters\n",
    "num_epochs = 10\n",
    "batch_size = 128\n",
    "\n",
    "with tf.Session(graph=graph) as sess:\n",
    "    global_variables_init.run()\n",
    "    graph.finalize()\n",
    "    \n",
    "    train_loss = []\n",
    "    val_loss = []\n",
    "    train_acc = []\n",
    "    val_acc = []\n",
    "    \n",
    "    for epoch in range(num_epochs):\n",
    "        avg_cost_train = 0.\n",
    "        total_train_batch = int((mnist.train.num_examples/batch_size) + 1)\n",
    "\n",
    "        running_vars_initializer_accuracy.run()\n",
    "        for batch in range(total_train_batch):\n",
    "            xBatch_train, yBatch_train = mnist.train.next_batch(batch_size)\n",
    "            xBatch_train = xBatch_train.reshape((-1, image_width, image_height, num_channels))\n",
    "            _, miniBatchCost_train, miniBatchAccuracy_train = sess.run([trainer, loss, accuracy_update_op], feed_dict = {X: xBatch_train, y: yBatch_train, keep_prob_: 0.5})\n",
    "            avg_cost_train += miniBatchCost_train / total_train_batch\n",
    "        accuracy_train = sess.run(accuracy)\n",
    "        train_loss.append(avg_cost_train)\n",
    "        train_acc.append(accuracy_train)\n",
    "        \n",
    "        \n",
    "        avg_cost_val = 0.\n",
    "        total_val_batch = int((mnist.validation.num_examples/batch_size) + 1)\n",
    "        running_vars_initializer_accuracy.run()\n",
    "        for batch in range(total_val_batch):\n",
    "            xBatch_val, yBatch_val = mnist.validation.next_batch(batch_size)\n",
    "            xBatch_val = xBatch_val.reshape((-1, image_width, image_height, num_channels))\n",
    "            miniBatchCost_val, miniBatchAccuracy_val= sess.run([loss, accuracy_update_op], feed_dict = {X: xBatch_val, y: yBatch_val, keep_prob_: 1.0})\n",
    "            avg_cost_val += miniBatchCost_val / total_val_batch\n",
    "        accuracy_val = sess.run(accuracy)\n",
    "        val_loss.append(avg_cost_val)\n",
    "        val_acc.append(accuracy_val)\n",
    "        \n",
    "        \n",
    "        print(\"Epoch: {:d}-\".format(epoch), \\\n",
    "              \"Training Loss: {:.6f}, \".format(avg_cost_train), \\\n",
    "              \"Training Accuracy: {:>.2%}, \".format(accuracy_train), \\\n",
    "              \"Validation Loss: {:.6f}, \".format(avg_cost_val), \\\n",
    "              \"Validation Accuracy: {:>.2%},\".format(accuracy_val))\n",
    "\n",
    "    print(\"Optimization Finished!\")\n",
    "    \n",
    "    print(\"Saving the model...\")\n",
    "    final_model_path = \"./my_deep_model.ckpt\"\n",
    "    saver.save(sess, final_model_path)\n",
    "    \n",
    "        \n",
    "    print(\"Evaluating on testing data...\")\n",
    "    running_vars_initializer_accuracy.run()\n",
    "    Xtest = mnist.test.images\n",
    "    Xtest = Xtest.reshape([-1, image_width, image_height, num_channels])\n",
    "    ytest = mnist.test.labels\n",
    "    predictions_test, _= sess.run([predictions, accuracy_update_op], feed_dict={X:Xtest, y: ytest, keep_prob_: 1.0})\n",
    "    accuracy_test = sess.run(accuracy)\n",
    "    print(\"Final test accuracy: {:>.2%}\".format(accuracy_test)) "
   ]
  },
  {
   "cell_type": "code",
   "execution_count": 5,
   "metadata": {},
   "outputs": [
    {
     "data": {
      "image/png": "[encoded data removed]",
      "text/plain": [
       "<Figure size 432x288 with 1 Axes>"
      ]
     },
     "metadata": {},
     "output_type": "display_data"
    }
   ],
   "source": [
    "#Visualize the loss\n",
    "plt.figure(1)\n",
    "plt.plot(train_loss, label='Train Loss')\n",
    "plt.plot(val_loss, label='Validation Loss')\n",
    "plt.xlabel('Epoch')\n",
    "plt.ylabel('Cost')\n",
    "plt.title(\"Loss (Cost Function)\")\n",
    "plt.legend()\n",
    "plt.show()"
   ]
  },
  {
   "cell_type": "code",
   "execution_count": 6,
   "metadata": {},
   "outputs": [
    {
     "data": {
      "image/png": "[encoded data removed]",
      "text/plain": [
       "<Figure size 432x288 with 1 Axes>"
      ]
     },
     "metadata": {},
     "output_type": "display_data"
    }
   ],
   "source": [
    "#Visualize the Accuracy\n",
    "plt.figure(2)\n",
    "plt.plot(train_acc, label='Train Accuracy')\n",
    "plt.plot(val_acc, label='Validation Accuracy')\n",
    "plt.xlabel('Epoch')\n",
    "plt.ylabel('Accuracy')\n",
    "plt.title(\"Accuracy\")\n",
    "plt.legend()\n",
    "plt.show()"
   ]
  },
  {
   "cell_type": "code",
   "execution_count": 11,
   "metadata": {},
   "outputs": [
    {
     "name": "stdout",
     "output_type": "stream",
     "text": [
      "Size of the matrix: (5, 5, 1, 32)\n",
      "How many dimensions it has: 4\n",
      "Dimension: 5\n",
      "Dimension: 5\n",
      "Dimension: 1\n",
      "Dimension: 32\n",
      "Total number of elements in a matrix: 800\n",
      "---------------------------------------------\n",
      "Size of the matrix: (32,)\n",
      "How many dimensions it has: 1\n",
      "Dimension: 32\n",
      "Total number of elements in a matrix: 32\n",
      "---------------------------------------------\n",
      "Size of the matrix: (5, 5, 32, 64)\n",
      "How many dimensions it has: 4\n",
      "Dimension: 5\n",
      "Dimension: 5\n",
      "Dimension: 32\n",
      "Dimension: 64\n",
      "Total number of elements in a matrix: 51200\n",
      "---------------------------------------------\n",
      "Size of the matrix: (64,)\n",
      "How many dimensions it has: 1\n",
      "Dimension: 64\n",
      "Total number of elements in a matrix: 64\n",
      "---------------------------------------------\n",
      "Size of the matrix: (3136, 1024)\n",
      "How many dimensions it has: 2\n",
      "Dimension: 3136\n",
      "Dimension: 1024\n",
      "Total number of elements in a matrix: 3211264\n",
      "---------------------------------------------\n",
      "Size of the matrix: (1024,)\n",
      "How many dimensions it has: 1\n",
      "Dimension: 1024\n",
      "Total number of elements in a matrix: 1024\n",
      "---------------------------------------------\n",
      "Size of the matrix: (1024, 10)\n",
      "How many dimensions it has: 2\n",
      "Dimension: 1024\n",
      "Dimension: 10\n",
      "Total number of elements in a matrix: 10240\n",
      "---------------------------------------------\n",
      "Size of the matrix: (10,)\n",
      "How many dimensions it has: 1\n",
      "Dimension: 10\n",
      "Total number of elements in a matrix: 10\n",
      "---------------------------------------------\n",
      "Total number of parameters: 3274634\n"
     ]
    }
   ],
   "source": [
    "#TOTAL NUMBER OF PARAMETERS\n",
    "total_parameters = 0\n",
    "for variable in graph.get_collection(tf.GraphKeys.TRAINABLE_VARIABLES):\n",
    "# shape is an array of tf.Dimension\n",
    "    shape = variable.get_shape()\n",
    "    print(\"Size of the matrix: {}\".format(shape))\n",
    "    print(\"How many dimensions it has: {}\".format(len(shape)))\n",
    "    variable_parameters = 1\n",
    "    for dim in shape:\n",
    "        print(\"Dimension: {}\".format(dim))\n",
    "        variable_parameters *= dim.value\n",
    "    print(\"Total number of elements in a matrix: {}\".format(variable_parameters))\n",
    "    print(\"---------------------------------------------\")\n",
    "    total_parameters += variable_parameters\n",
    "print(\"Total number of parameters: {}\". format(total_parameters))"
   ]
  },
  {
   "cell_type": "code",
   "execution_count": 14,
   "metadata": {},
   "outputs": [
    {
     "data": {
      "text/plain": [
       "[<tf.Variable 'conv2d/kernel:0' shape=(5, 5, 1, 32) dtype=float32_ref>,\n",
       " <tf.Variable 'conv2d/bias:0' shape=(32,) dtype=float32_ref>,\n",
       " <tf.Variable 'conv2d_1/kernel:0' shape=(5, 5, 32, 64) dtype=float32_ref>,\n",
       " <tf.Variable 'conv2d_1/bias:0' shape=(64,) dtype=float32_ref>,\n",
       " <tf.Variable 'dense/kernel:0' shape=(3136, 1024) dtype=float32_ref>,\n",
       " <tf.Variable 'dense/bias:0' shape=(1024,) dtype=float32_ref>,\n",
       " <tf.Variable 'Logits/dense/kernel:0' shape=(1024, 10) dtype=float32_ref>,\n",
       " <tf.Variable 'Logits/dense/bias:0' shape=(10,) dtype=float32_ref>]"
      ]
     },
     "execution_count": 14,
     "metadata": {},
     "output_type": "execute_result"
    }
   ],
   "source": [
    "graph.get_collection(tf.GraphKeys.TRAINABLE_VARIABLES)"
   ]
  },
  {
   "cell_type": "code",
   "execution_count": null,
   "metadata": {},
   "outputs": [],
   "source": []
  }
 ],
 "metadata": {
  "kernelspec": {
   "display_name": "Python 3",
   "language": "python",
   "name": "python3"
  },
  "language_info": {
   "codemirror_mode": {
    "name": "ipython",
    "version": 3
   },
   "file_extension": ".py",
   "mimetype": "text/x-python",
   "name": "python",
   "nbconvert_exporter": "python",
   "pygments_lexer": "ipython3",
   "version": "3.6.5"
  }
 },
 "nbformat": 4,
 "nbformat_minor": 2
}
